{
 "metadata": {
  "language_info": {
   "codemirror_mode": {
    "name": "ipython",
    "version": 3
   },
   "file_extension": ".py",
   "mimetype": "text/x-python",
   "name": "python",
   "nbconvert_exporter": "python",
   "pygments_lexer": "ipython3",
   "version": "3.7.10"
  },
  "orig_nbformat": 4,
  "kernelspec": {
   "name": "python3",
   "display_name": "Python 3.7.10 64-bit ('CNN-LSTM_gold_price-o7kuqWqa': pipenv)"
  },
  "interpreter": {
   "hash": "f87398b2de8e90719949ed00c7b022e62357d5ca27b768fb93eb54116fa5b864"
  }
 },
 "nbformat": 4,
 "nbformat_minor": 2,
 "cells": [
  {
   "cell_type": "code",
   "execution_count": 265,
   "metadata": {},
   "outputs": [],
   "source": [
    "import numpy as np\n",
    "import pandas as pd\n",
    "\n",
    "from sklearn.svm import SVR\n",
    "\n",
    "import tensorflow as tf\n",
    "from tensorflow.keras.optimizers import Adam\n",
    "from tensorflow.keras.models import Sequential\n",
    "from tensorflow.keras.layers import Dense, LSTM, Conv1D, MaxPooling1D, InputLayer\n",
    "from tensorflow.keras.wrappers.scikit_learn import KerasClassifier"
   ]
  },
  {
   "cell_type": "code",
   "execution_count": 266,
   "metadata": {},
   "outputs": [
    {
     "output_type": "stream",
     "name": "stdout",
     "text": [
      "Dataset shape:  (1088, 7)\nDate          object\nOpen         float64\nHigh         float64\nLow          float64\nClose        float64\nAdj Close    float64\nVolume       float64\ndtype: object\n"
     ]
    },
    {
     "output_type": "execute_result",
     "data": {
      "text/plain": [
       "         Date         Open         High          Low        Close  \\\n",
       "0  2014-01-02  1204.300049  1227.300049  1204.300049  1225.000000   \n",
       "1  2014-01-03  1221.699951  1239.000000  1221.699951  1238.400024   \n",
       "2  2014-01-06  1232.800049  1247.000000  1221.900024  1237.800049   \n",
       "3  2014-01-07  1239.300049  1242.400024  1226.300049  1229.400024   \n",
       "4  2014-01-08  1227.500000  1227.500000  1218.599976  1225.300049   \n",
       "\n",
       "     Adj Close  Volume  \n",
       "0  1225.000000   209.0  \n",
       "1  1238.400024   142.0  \n",
       "2  1237.800049   127.0  \n",
       "3  1229.400024    73.0  \n",
       "4  1225.300049   189.0  "
      ],
      "text/html": "<div>\n<style scoped>\n    .dataframe tbody tr th:only-of-type {\n        vertical-align: middle;\n    }\n\n    .dataframe tbody tr th {\n        vertical-align: top;\n    }\n\n    .dataframe thead th {\n        text-align: right;\n    }\n</style>\n<table border=\"1\" class=\"dataframe\">\n  <thead>\n    <tr style=\"text-align: right;\">\n      <th></th>\n      <th>Date</th>\n      <th>Open</th>\n      <th>High</th>\n      <th>Low</th>\n      <th>Close</th>\n      <th>Adj Close</th>\n      <th>Volume</th>\n    </tr>\n  </thead>\n  <tbody>\n    <tr>\n      <th>0</th>\n      <td>2014-01-02</td>\n      <td>1204.300049</td>\n      <td>1227.300049</td>\n      <td>1204.300049</td>\n      <td>1225.000000</td>\n      <td>1225.000000</td>\n      <td>209.0</td>\n    </tr>\n    <tr>\n      <th>1</th>\n      <td>2014-01-03</td>\n      <td>1221.699951</td>\n      <td>1239.000000</td>\n      <td>1221.699951</td>\n      <td>1238.400024</td>\n      <td>1238.400024</td>\n      <td>142.0</td>\n    </tr>\n    <tr>\n      <th>2</th>\n      <td>2014-01-06</td>\n      <td>1232.800049</td>\n      <td>1247.000000</td>\n      <td>1221.900024</td>\n      <td>1237.800049</td>\n      <td>1237.800049</td>\n      <td>127.0</td>\n    </tr>\n    <tr>\n      <th>3</th>\n      <td>2014-01-07</td>\n      <td>1239.300049</td>\n      <td>1242.400024</td>\n      <td>1226.300049</td>\n      <td>1229.400024</td>\n      <td>1229.400024</td>\n      <td>73.0</td>\n    </tr>\n    <tr>\n      <th>4</th>\n      <td>2014-01-08</td>\n      <td>1227.500000</td>\n      <td>1227.500000</td>\n      <td>1218.599976</td>\n      <td>1225.300049</td>\n      <td>1225.300049</td>\n      <td>189.0</td>\n    </tr>\n  </tbody>\n</table>\n</div>"
     },
     "metadata": {},
     "execution_count": 266
    }
   ],
   "source": [
    "# Reading the dataset\n",
    "data_csv = \"dataset.csv\"\n",
    "df = pd.read_csv(data_csv)\n",
    "print('Dataset shape: ', df.shape)\n",
    "print(df.dtypes)\n",
    "df.head()"
   ]
  },
  {
   "cell_type": "code",
   "execution_count": 267,
   "metadata": {},
   "outputs": [
    {
     "output_type": "stream",
     "name": "stdout",
     "text": [
      "     Open  High  Low  Close  Adj Close  Volume\n126   NaN   NaN  NaN    NaN        NaN     NaN\n229   NaN   NaN  NaN    NaN        NaN     NaN\n247   NaN   NaN  NaN    NaN        NaN     NaN\n514   NaN   NaN  NaN    NaN        NaN     NaN\n534   NaN   NaN  NaN    NaN        NaN     NaN\nDataset shape:  (1080, 7)\n"
     ]
    }
   ],
   "source": [
    "# Verifying null values and deleting name from dataset\n",
    "null_columns=df.columns[df.isnull().any()]\n",
    "print(df[df.isnull().any(axis=1)][null_columns].head())\n",
    "# Drop the lines with null values\n",
    "df = df.dropna()\n",
    "# Drop Date column\n",
    "# df.pop(\"Date\")\n",
    "\n",
    "print('Dataset shape: ', df.shape)"
   ]
  },
  {
   "cell_type": "code",
   "execution_count": 268,
   "metadata": {},
   "outputs": [
    {
     "output_type": "stream",
     "name": "stdout",
     "text": [
      "Minimum: 1046.199951\nMaximum: 1391.400024\nMean: 1240.0312965685187\nMedian: 1251.0\nSD: 72.12056317647767\nSkewness: -0.5470330704899712\nKurtosis: -0.35155548285018057\n"
     ]
    }
   ],
   "source": [
    "print(\"Minimum: {}\\nMaximum: {}\\nMean: {}\\nMedian: {}\\nSD: {}\\nSkewness: {}\\nKurtosis: {}\".format(df[\"Low\"].min(), df[\"High\"].max(), \n",
    "df[\"Open\"].mean(), df[\"Open\"].median(), df[\"Open\"].std(), df[\"Open\"].skew(), df[\"Open\"].kurtosis()))"
   ]
  },
  {
   "cell_type": "code",
   "execution_count": 269,
   "metadata": {},
   "outputs": [
    {
     "output_type": "stream",
     "name": "stdout",
     "text": [
      "Train:  (1000, 6) Test:  (81, 6)\n"
     ]
    }
   ],
   "source": [
    "lastday_2017 = df.loc[df[\"Date\"]==\"2017-12-29\"].index.values[0]\n",
    "df.pop(\"Date\")\n",
    "# Transforming the dataset to ln scale\n",
    "df = np.log(df)\n",
    "\n",
    "# Split dataset into train and test\n",
    "train_set = df.loc[0:lastday_2017]\n",
    "test_set = df.loc[lastday_2017:]\n",
    "print(\"Train: \", train_set.shape, \"Test: \", test_set.shape)"
   ]
  },
  {
   "source": [
    "# Regression models"
   ],
   "cell_type": "markdown",
   "metadata": {}
  },
  {
   "cell_type": "code",
   "execution_count": 270,
   "metadata": {},
   "outputs": [],
   "source": [
    "# FFNN class\n",
    "class FFNN:\n",
    "    def __init__(self, input_dim, normalize_factor=0):\n",
    "        self.normalize_factor = normalize_factor if normalize_factor > 0 else 1\n",
    "        optimizer = Adam()\n",
    "        h_n = 3 if input_dim == 4 or input_dim == 6 else 5\n",
    "        self.model = Sequential()\n",
    "        self.model.add(Dense(h_n, input_dim=input_dim))\n",
    "        self.model.add(Dense(1))\n",
    "        self.model.compile(loss=\"mean_squared_error\", optimizer=optimizer, metrics=[\"accuracy\", \"mean_absolute_error\", \"root_mean_squared_error\"])\n",
    "    \n",
    "    def fit(self,x_train,y_train):\n",
    "        self.model.fit(x_train/self.normalize_factor, y_train,\n",
    "                        epochs=50,\n",
    "                        batch_size=128,\n",
    "                        verbose=0\n",
    "                      )\n",
    "\n",
    "    def predict(self, x_test):\n",
    "        y_valid_pred = self.model.predict(x_test/self.normalize_factor)\n",
    "        return y_valid_pred.flatten()"
   ]
  },
  {
   "cell_type": "code",
   "execution_count": 271,
   "metadata": {},
   "outputs": [],
   "source": [
    "# LSTM class\n",
    "class PLSTM:\n",
    "    def __init__(self, input_dim, type, normalize_factor=0):\n",
    "        self.normalize_factor = normalize_factor if normalize_factor > 0 else 1\n",
    "        optimizer = Adam()\n",
    "        self.model = Sequential()\n",
    "        h_n1 = 100 if type in [1,3,4] else 200\n",
    "        self.model.add(LSTM(h_n1))\n",
    "        if type>2:\n",
    "            h_n2 = 50 if type == 3 else 100\n",
    "            self.model.add(LSTM(h_n2))\n",
    "            if type==4:\n",
    "                self.model.add(Dense(32))\n",
    "        self.model.add(Dense(1))\n",
    "        self.model.compile(loss=\"mean_squared_error\", optimizer=optimizer, metrics=[\"accuracy\", \"mean_absolute_error\", \"root_mean_squared_error\"])\n",
    "    \n",
    "    def fit(self,x_train,y_train):\n",
    "        self.model.fit(x_train/self.normalize_factor, y_train,\n",
    "                        epochs=50,\n",
    "                        batch_size=128,\n",
    "                        verbose=0\n",
    "                      )\n",
    "\n",
    "    def predict(self, x_test):\n",
    "        y_valid_pred = self.model.predict(x_test/self.normalize_factor)\n",
    "        return y_valid_pred.flatten()"
   ]
  },
  {
   "cell_type": "code",
   "execution_count": 272,
   "metadata": {},
   "outputs": [],
   "source": [
    "# CNN-LSTM class\n",
    "class CNNLSTM:\n",
    "    def __init__(self, input_dim, type, normalize_factor=0):\n",
    "        self.normalize_factor = normalize_factor if normalize_factor > 0 else 1\n",
    "        optimizer = Adam()\n",
    "        self.model = Sequential()\n",
    "        self.h_n1 = 100 if type == 1 else 200\n",
    "        self.filter1 = 32 if type == 1 else 64\n",
    "        self.filter2 = 64 if type == 1 else 128\n",
    "        self.model.add(Conv1D(self.filter1, 2))\n",
    "        self.model.add(Conv1D(self.filter2, 2))\n",
    "        self.model.add(MaxPooling1D(pool_size=2))\n",
    "        self.model.add(LSTM(self.h_n1))\n",
    "        if type==2:\n",
    "            self.model.add(Dense(32))\n",
    "        self.model.add(Dense(1))\n",
    "        self.model.compile(loss=\"mean_squared_error\", optimizer=optimizer, metrics=[\"accuracy\", \"mean_absolute_error\", \"root_mean_squared_error\"])\n",
    "    \n",
    "    def fit(self,x_train,y_train):\n",
    "        self.model.fit(x_train/self.normalize_factor, y_train,\n",
    "                        epochs=50,\n",
    "                        batch_size=128,\n",
    "                        verbose=0\n",
    "                      )\n",
    "\n",
    "    def predict(self, x_test):\n",
    "        y_valid_pred = self.model.predict(x_test/self.normalize_factor)\n",
    "        return y_valid_pred.flatten()"
   ]
  },
  {
   "cell_type": "code",
   "execution_count": 273,
   "metadata": {},
   "outputs": [],
   "source": [
    "def create_models(input_dim):\n",
    "    # SVR\n",
    "    svr = SVR(kernel='rbf', C=1, tol=1e-3)\n",
    "\n",
    "    # FFNN\n",
    "    ffnn = FFNN(input_dim)\n",
    "\n",
    "    # LSTM1\n",
    "    lstm1 = PLSTM(input_dim, 1)\n",
    "\n",
    "    # LSTM2\n",
    "    lstm2 = PLSTM(input_dim, 2)\n",
    "\n",
    "    # LSTM3\n",
    "    lstm3 = PLSTM(input_dim, 3)\n",
    "\n",
    "    # LSTM4\n",
    "    lstm4 = PLSTM(input_dim, 4)\n",
    "\n",
    "    # CNN-LSTM1\n",
    "    cnnlstm1 = CNNLSTM(input_dim, 1)\n",
    "\n",
    "    # CNN-LSTM2\n",
    "    cnnlstm2 = CNNLSTM(input_dim, 2)\n",
    "\n",
    "    labels = [\"SVR\", \"FFNN\", \"LSTM1\", \"LSTM2\", \"LSTM3\", \"LSTM4\", \"CNN-LSTM1\", \"CNN-LSTM2\"]\n",
    "    models = [svr, ffnn, lstm1, lstm2, lstm3, lstm4, cnnlstm1, cnnlstm2]\n",
    "\n",
    "    return labels, models"
   ]
  },
  {
   "cell_type": "code",
   "execution_count": 274,
   "metadata": {},
   "outputs": [],
   "source": [
    "labels, [svr, ffnn, lstm1, lstm2, lstm3, lstm4, cnnlstm1, cnnlstm2] = create_models(4)"
   ]
  },
  {
   "cell_type": "code",
   "execution_count": null,
   "metadata": {},
   "outputs": [],
   "source": []
  }
 ]
}